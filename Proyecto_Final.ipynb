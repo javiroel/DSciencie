{
 "cells": [
  {
   "cell_type": "code",
   "execution_count": 1,
   "metadata": {},
   "outputs": [],
   "source": [
    "import pandas                  as pd\n",
    "import numpy                   as np\n",
    "import matplotlib.pyplot       as plt\n",
    "import seaborn                 as sns"
   ]
  },
  {
   "cell_type": "markdown",
   "metadata": {},
   "source": [
    "                                                                                                   SEGUNDA PREENTREGA"
   ]
  },
  {
   "cell_type": "markdown",
   "metadata": {},
   "source": [
    "A - **PREPARACIÓN DE LOS DATOS**"
   ]
  },
  {
   "cell_type": "markdown",
   "metadata": {},
   "source": [
    "1. Cargar el dataset\n",
    "2. ver si existen filas duplicadas\n",
    "3. ver para cada de las columnas si existen valores nulos\n",
    "4. eliminar las filas que contiene nulos en la columna de practica de deportes (631/30641) -- 2% de los datos totales\n",
    "5. reemplazar por la moda los valores nulos de las columnas categoricas y numericas (cantidad de hermanos)\n",
    "6. Agrego columna de Score (promedio de las notas de matematicas, lectura y escritura)"
   ]
  },
  {
   "cell_type": "markdown",
   "metadata": {},
   "source": [
    "1 - CARGAR EL DATASET"
   ]
  },
  {
   "cell_type": "code",
   "execution_count": 3,
   "metadata": {},
   "outputs": [
    {
     "data": {
      "text/html": [
       "<div>\n",
       "<style scoped>\n",
       "    .dataframe tbody tr th:only-of-type {\n",
       "        vertical-align: middle;\n",
       "    }\n",
       "\n",
       "    .dataframe tbody tr th {\n",
       "        vertical-align: top;\n",
       "    }\n",
       "\n",
       "    .dataframe thead th {\n",
       "        text-align: right;\n",
       "    }\n",
       "</style>\n",
       "<table border=\"1\" class=\"dataframe\">\n",
       "  <thead>\n",
       "    <tr style=\"text-align: right;\">\n",
       "      <th></th>\n",
       "      <th>Gender</th>\n",
       "      <th>EthnicGroup</th>\n",
       "      <th>ParentEduc</th>\n",
       "      <th>LunchType</th>\n",
       "      <th>TestPrep</th>\n",
       "      <th>ParentMaritalStatus</th>\n",
       "      <th>PracticeSport</th>\n",
       "      <th>IsFirstChild</th>\n",
       "      <th>NrSiblings</th>\n",
       "      <th>TransportMeans</th>\n",
       "      <th>WklyStudyHours</th>\n",
       "      <th>MathScore</th>\n",
       "      <th>ReadingScore</th>\n",
       "      <th>WritingScore</th>\n",
       "    </tr>\n",
       "  </thead>\n",
       "  <tbody>\n",
       "    <tr>\n",
       "      <th>0</th>\n",
       "      <td>female</td>\n",
       "      <td>NaN</td>\n",
       "      <td>bachelor's degree</td>\n",
       "      <td>standard</td>\n",
       "      <td>none</td>\n",
       "      <td>married</td>\n",
       "      <td>regularly</td>\n",
       "      <td>yes</td>\n",
       "      <td>3.0</td>\n",
       "      <td>school_bus</td>\n",
       "      <td>&lt; 5</td>\n",
       "      <td>71</td>\n",
       "      <td>71</td>\n",
       "      <td>74</td>\n",
       "    </tr>\n",
       "    <tr>\n",
       "      <th>1</th>\n",
       "      <td>female</td>\n",
       "      <td>group C</td>\n",
       "      <td>some college</td>\n",
       "      <td>standard</td>\n",
       "      <td>NaN</td>\n",
       "      <td>married</td>\n",
       "      <td>sometimes</td>\n",
       "      <td>yes</td>\n",
       "      <td>0.0</td>\n",
       "      <td>NaN</td>\n",
       "      <td>5 - 10</td>\n",
       "      <td>69</td>\n",
       "      <td>90</td>\n",
       "      <td>88</td>\n",
       "    </tr>\n",
       "    <tr>\n",
       "      <th>2</th>\n",
       "      <td>female</td>\n",
       "      <td>group B</td>\n",
       "      <td>master's degree</td>\n",
       "      <td>standard</td>\n",
       "      <td>none</td>\n",
       "      <td>single</td>\n",
       "      <td>sometimes</td>\n",
       "      <td>yes</td>\n",
       "      <td>4.0</td>\n",
       "      <td>school_bus</td>\n",
       "      <td>&lt; 5</td>\n",
       "      <td>87</td>\n",
       "      <td>93</td>\n",
       "      <td>91</td>\n",
       "    </tr>\n",
       "    <tr>\n",
       "      <th>3</th>\n",
       "      <td>male</td>\n",
       "      <td>group A</td>\n",
       "      <td>associate's degree</td>\n",
       "      <td>free/reduced</td>\n",
       "      <td>none</td>\n",
       "      <td>married</td>\n",
       "      <td>never</td>\n",
       "      <td>no</td>\n",
       "      <td>1.0</td>\n",
       "      <td>NaN</td>\n",
       "      <td>5 - 10</td>\n",
       "      <td>45</td>\n",
       "      <td>56</td>\n",
       "      <td>42</td>\n",
       "    </tr>\n",
       "    <tr>\n",
       "      <th>4</th>\n",
       "      <td>male</td>\n",
       "      <td>group C</td>\n",
       "      <td>some college</td>\n",
       "      <td>standard</td>\n",
       "      <td>none</td>\n",
       "      <td>married</td>\n",
       "      <td>sometimes</td>\n",
       "      <td>yes</td>\n",
       "      <td>0.0</td>\n",
       "      <td>school_bus</td>\n",
       "      <td>5 - 10</td>\n",
       "      <td>76</td>\n",
       "      <td>78</td>\n",
       "      <td>75</td>\n",
       "    </tr>\n",
       "  </tbody>\n",
       "</table>\n",
       "</div>"
      ],
      "text/plain": [
       "   Gender EthnicGroup          ParentEduc     LunchType TestPrep  \\\n",
       "0  female         NaN   bachelor's degree      standard     none   \n",
       "1  female     group C        some college      standard      NaN   \n",
       "2  female     group B     master's degree      standard     none   \n",
       "3    male     group A  associate's degree  free/reduced     none   \n",
       "4    male     group C        some college      standard     none   \n",
       "\n",
       "  ParentMaritalStatus PracticeSport IsFirstChild  NrSiblings TransportMeans  \\\n",
       "0             married     regularly          yes         3.0     school_bus   \n",
       "1             married     sometimes          yes         0.0            NaN   \n",
       "2              single     sometimes          yes         4.0     school_bus   \n",
       "3             married         never           no         1.0            NaN   \n",
       "4             married     sometimes          yes         0.0     school_bus   \n",
       "\n",
       "  WklyStudyHours  MathScore  ReadingScore  WritingScore  \n",
       "0            < 5         71            71            74  \n",
       "1         5 - 10         69            90            88  \n",
       "2            < 5         87            93            91  \n",
       "3         5 - 10         45            56            42  \n",
       "4         5 - 10         76            78            75  "
      ]
     },
     "execution_count": 3,
     "metadata": {},
     "output_type": "execute_result"
    }
   ],
   "source": [
    "df=pd.read_csv('Exams/Expanded_data_with_more_features.csv', sep=',', decimal='.', index_col=0)\n",
    "df.head(5) # muestreo de los primeros 5 registros para ver la estructura de los datos, para ver si se importaron correctamente"
   ]
  },
  {
   "cell_type": "markdown",
   "metadata": {},
   "source": [
    "Se toma el dataset de la pagina de Kaggle, se limpia y se prepara para el analisis."
   ]
  },
  {
   "cell_type": "code",
   "execution_count": 4,
   "metadata": {},
   "outputs": [
    {
     "data": {
      "text/html": [
       "<div>\n",
       "<style scoped>\n",
       "    .dataframe tbody tr th:only-of-type {\n",
       "        vertical-align: middle;\n",
       "    }\n",
       "\n",
       "    .dataframe tbody tr th {\n",
       "        vertical-align: top;\n",
       "    }\n",
       "\n",
       "    .dataframe thead th {\n",
       "        text-align: right;\n",
       "    }\n",
       "</style>\n",
       "<table border=\"1\" class=\"dataframe\">\n",
       "  <thead>\n",
       "    <tr style=\"text-align: right;\">\n",
       "      <th></th>\n",
       "      <th>NrSiblings</th>\n",
       "      <th>MathScore</th>\n",
       "      <th>ReadingScore</th>\n",
       "      <th>WritingScore</th>\n",
       "    </tr>\n",
       "  </thead>\n",
       "  <tbody>\n",
       "    <tr>\n",
       "      <th>count</th>\n",
       "      <td>29069.000000</td>\n",
       "      <td>30641.000000</td>\n",
       "      <td>30641.000000</td>\n",
       "      <td>30641.000000</td>\n",
       "    </tr>\n",
       "    <tr>\n",
       "      <th>mean</th>\n",
       "      <td>2.145894</td>\n",
       "      <td>66.558402</td>\n",
       "      <td>69.377533</td>\n",
       "      <td>68.418622</td>\n",
       "    </tr>\n",
       "    <tr>\n",
       "      <th>std</th>\n",
       "      <td>1.458242</td>\n",
       "      <td>15.361616</td>\n",
       "      <td>14.758952</td>\n",
       "      <td>15.443525</td>\n",
       "    </tr>\n",
       "    <tr>\n",
       "      <th>min</th>\n",
       "      <td>0.000000</td>\n",
       "      <td>0.000000</td>\n",
       "      <td>10.000000</td>\n",
       "      <td>4.000000</td>\n",
       "    </tr>\n",
       "    <tr>\n",
       "      <th>25%</th>\n",
       "      <td>1.000000</td>\n",
       "      <td>56.000000</td>\n",
       "      <td>59.000000</td>\n",
       "      <td>58.000000</td>\n",
       "    </tr>\n",
       "    <tr>\n",
       "      <th>50%</th>\n",
       "      <td>2.000000</td>\n",
       "      <td>67.000000</td>\n",
       "      <td>70.000000</td>\n",
       "      <td>69.000000</td>\n",
       "    </tr>\n",
       "    <tr>\n",
       "      <th>75%</th>\n",
       "      <td>3.000000</td>\n",
       "      <td>78.000000</td>\n",
       "      <td>80.000000</td>\n",
       "      <td>79.000000</td>\n",
       "    </tr>\n",
       "    <tr>\n",
       "      <th>max</th>\n",
       "      <td>7.000000</td>\n",
       "      <td>100.000000</td>\n",
       "      <td>100.000000</td>\n",
       "      <td>100.000000</td>\n",
       "    </tr>\n",
       "  </tbody>\n",
       "</table>\n",
       "</div>"
      ],
      "text/plain": [
       "         NrSiblings     MathScore  ReadingScore  WritingScore\n",
       "count  29069.000000  30641.000000  30641.000000  30641.000000\n",
       "mean       2.145894     66.558402     69.377533     68.418622\n",
       "std        1.458242     15.361616     14.758952     15.443525\n",
       "min        0.000000      0.000000     10.000000      4.000000\n",
       "25%        1.000000     56.000000     59.000000     58.000000\n",
       "50%        2.000000     67.000000     70.000000     69.000000\n",
       "75%        3.000000     78.000000     80.000000     79.000000\n",
       "max        7.000000    100.000000    100.000000    100.000000"
      ]
     },
     "execution_count": 4,
     "metadata": {},
     "output_type": "execute_result"
    }
   ],
   "source": [
    "Stadist=df.describe() # ver los estadisticos de las variables numericas\n",
    "Stadist"
   ]
  },
  {
   "cell_type": "markdown",
   "metadata": {},
   "source": [
    "se ve los principales numeros de la data"
   ]
  },
  {
   "cell_type": "markdown",
   "metadata": {},
   "source": [
    "2 - VER SI EXISTEN FILAS DUPLICADAS"
   ]
  },
  {
   "cell_type": "code",
   "execution_count": 5,
   "metadata": {},
   "outputs": [
    {
     "data": {
      "text/plain": [
       "0"
      ]
     },
     "execution_count": 5,
     "metadata": {},
     "output_type": "execute_result"
    }
   ],
   "source": [
    "df.duplicated().sum()"
   ]
  },
  {
   "cell_type": "markdown",
   "metadata": {},
   "source": [
    "VEO LOS TIPOS DE VARIABLES DE CADA UNA DE LAS COLUMNAS"
   ]
  },
  {
   "cell_type": "code",
   "execution_count": 25,
   "metadata": {},
   "outputs": [
    {
     "data": {
      "text/plain": [
       "Gender                  object\n",
       "EthnicGroup             object\n",
       "ParentEduc              object\n",
       "LunchType               object\n",
       "TestPrep                object\n",
       "ParentMaritalStatus     object\n",
       "PracticeSport           object\n",
       "IsFirstChild            object\n",
       "NrSiblings             float64\n",
       "TransportMeans          object\n",
       "WklyStudyHours          object\n",
       "MathScore                int64\n",
       "ReadingScore             int64\n",
       "WritingScore             int64\n",
       "Score                  float64\n",
       "dtype: object"
      ]
     },
     "execution_count": 25,
     "metadata": {},
     "output_type": "execute_result"
    }
   ],
   "source": [
    "df.dtypes # ver los tipos de datos de las variables"
   ]
  },
  {
   "cell_type": "markdown",
   "metadata": {},
   "source": [
    "No existen filas duplicadas"
   ]
  },
  {
   "cell_type": "markdown",
   "metadata": {},
   "source": [
    "3 - VER SI EXISTEN VALORES NULOS"
   ]
  },
  {
   "cell_type": "code",
   "execution_count": 6,
   "metadata": {},
   "outputs": [
    {
     "data": {
      "text/plain": [
       "Gender                    0\n",
       "EthnicGroup            1840\n",
       "ParentEduc             1845\n",
       "LunchType                 0\n",
       "TestPrep               1830\n",
       "ParentMaritalStatus    1190\n",
       "PracticeSport           631\n",
       "IsFirstChild            904\n",
       "NrSiblings             1572\n",
       "TransportMeans         3134\n",
       "WklyStudyHours          955\n",
       "MathScore                 0\n",
       "ReadingScore              0\n",
       "WritingScore              0\n",
       "dtype: int64"
      ]
     },
     "execution_count": 6,
     "metadata": {},
     "output_type": "execute_result"
    }
   ],
   "source": [
    "df.isnull().sum()"
   ]
  },
  {
   "cell_type": "markdown",
   "metadata": {},
   "source": [
    "4 - ELIMINAR LAS FILAS QUE CONTIENEN NULOS EN LA COLUMNA DE PRACTICA DE DEPORTES (631/30641) -- 2% DE LOS DATOS TOTALES"
   ]
  },
  {
   "cell_type": "code",
   "execution_count": 7,
   "metadata": {},
   "outputs": [],
   "source": [
    "df.dropna(subset=['PracticeSport'], inplace=True)"
   ]
  },
  {
   "cell_type": "markdown",
   "metadata": {},
   "source": [
    "5 - REEMPLAZAR POR LA MODA LOS VALORES NULOS DE LAS COLUMNAS CATEGORICAS Y NUMERICAS (CANTIDAD DE HERMANOS) "
   ]
  },
  {
   "cell_type": "code",
   "execution_count": 8,
   "metadata": {},
   "outputs": [
    {
     "name": "stdout",
     "output_type": "stream",
     "text": [
      "Moda:  Gender                       female\n",
      "EthnicGroup                 group C\n",
      "ParentEduc             some college\n",
      "LunchType                  standard\n",
      "TestPrep                       none\n",
      "ParentMaritalStatus         married\n",
      "PracticeSport             sometimes\n",
      "IsFirstChild                    yes\n",
      "NrSiblings                      1.0\n",
      "TransportMeans           school_bus\n",
      "WklyStudyHours               5 - 10\n",
      "MathScore                        64\n",
      "ReadingScore                     65\n",
      "WritingScore                     67\n",
      "Name: 0, dtype: object\n"
     ]
    }
   ],
   "source": [
    "## ver todas las modas de las columnas del dfset de los examenes de los chicos\n",
    "\n",
    "moda=df.mode().iloc[0]\n",
    "print(\"Moda: \", moda)"
   ]
  },
  {
   "cell_type": "code",
   "execution_count": 9,
   "metadata": {},
   "outputs": [],
   "source": [
    "df.fillna(moda, inplace=True) ## implace para que se guarde en el dfframe"
   ]
  },
  {
   "cell_type": "code",
   "execution_count": 10,
   "metadata": {},
   "outputs": [
    {
     "data": {
      "text/plain": [
       "Gender                 0\n",
       "EthnicGroup            0\n",
       "ParentEduc             0\n",
       "LunchType              0\n",
       "TestPrep               0\n",
       "ParentMaritalStatus    0\n",
       "PracticeSport          0\n",
       "IsFirstChild           0\n",
       "NrSiblings             0\n",
       "TransportMeans         0\n",
       "WklyStudyHours         0\n",
       "MathScore              0\n",
       "ReadingScore           0\n",
       "WritingScore           0\n",
       "dtype: int64"
      ]
     },
     "execution_count": 10,
     "metadata": {},
     "output_type": "execute_result"
    }
   ],
   "source": [
    "df.isnull().sum() ## verifico que no haya valores nulos en cada uno las columnas"
   ]
  },
  {
   "cell_type": "markdown",
   "metadata": {},
   "source": [
    "6 - AGREGO COLUMNA DE SCORE (PROMEDIO DE LAS NOTAS DE MATEMATICAS, LECTURA Y ESCRITURA)"
   ]
  },
  {
   "cell_type": "code",
   "execution_count": 11,
   "metadata": {},
   "outputs": [
    {
     "data": {
      "text/html": [
       "<div>\n",
       "<style scoped>\n",
       "    .dataframe tbody tr th:only-of-type {\n",
       "        vertical-align: middle;\n",
       "    }\n",
       "\n",
       "    .dataframe tbody tr th {\n",
       "        vertical-align: top;\n",
       "    }\n",
       "\n",
       "    .dataframe thead th {\n",
       "        text-align: right;\n",
       "    }\n",
       "</style>\n",
       "<table border=\"1\" class=\"dataframe\">\n",
       "  <thead>\n",
       "    <tr style=\"text-align: right;\">\n",
       "      <th></th>\n",
       "      <th>Gender</th>\n",
       "      <th>EthnicGroup</th>\n",
       "      <th>ParentEduc</th>\n",
       "      <th>LunchType</th>\n",
       "      <th>TestPrep</th>\n",
       "      <th>ParentMaritalStatus</th>\n",
       "      <th>PracticeSport</th>\n",
       "      <th>IsFirstChild</th>\n",
       "      <th>NrSiblings</th>\n",
       "      <th>TransportMeans</th>\n",
       "      <th>WklyStudyHours</th>\n",
       "      <th>MathScore</th>\n",
       "      <th>ReadingScore</th>\n",
       "      <th>WritingScore</th>\n",
       "      <th>Score</th>\n",
       "    </tr>\n",
       "  </thead>\n",
       "  <tbody>\n",
       "    <tr>\n",
       "      <th>0</th>\n",
       "      <td>female</td>\n",
       "      <td>group C</td>\n",
       "      <td>bachelor's degree</td>\n",
       "      <td>standard</td>\n",
       "      <td>none</td>\n",
       "      <td>married</td>\n",
       "      <td>regularly</td>\n",
       "      <td>yes</td>\n",
       "      <td>3.0</td>\n",
       "      <td>school_bus</td>\n",
       "      <td>&lt; 5</td>\n",
       "      <td>71</td>\n",
       "      <td>71</td>\n",
       "      <td>74</td>\n",
       "      <td>72.0</td>\n",
       "    </tr>\n",
       "    <tr>\n",
       "      <th>1</th>\n",
       "      <td>female</td>\n",
       "      <td>group C</td>\n",
       "      <td>some college</td>\n",
       "      <td>standard</td>\n",
       "      <td>none</td>\n",
       "      <td>married</td>\n",
       "      <td>sometimes</td>\n",
       "      <td>yes</td>\n",
       "      <td>0.0</td>\n",
       "      <td>school_bus</td>\n",
       "      <td>5 - 10</td>\n",
       "      <td>69</td>\n",
       "      <td>90</td>\n",
       "      <td>88</td>\n",
       "      <td>82.0</td>\n",
       "    </tr>\n",
       "    <tr>\n",
       "      <th>2</th>\n",
       "      <td>female</td>\n",
       "      <td>group B</td>\n",
       "      <td>master's degree</td>\n",
       "      <td>standard</td>\n",
       "      <td>none</td>\n",
       "      <td>single</td>\n",
       "      <td>sometimes</td>\n",
       "      <td>yes</td>\n",
       "      <td>4.0</td>\n",
       "      <td>school_bus</td>\n",
       "      <td>&lt; 5</td>\n",
       "      <td>87</td>\n",
       "      <td>93</td>\n",
       "      <td>91</td>\n",
       "      <td>90.0</td>\n",
       "    </tr>\n",
       "    <tr>\n",
       "      <th>3</th>\n",
       "      <td>male</td>\n",
       "      <td>group A</td>\n",
       "      <td>associate's degree</td>\n",
       "      <td>free/reduced</td>\n",
       "      <td>none</td>\n",
       "      <td>married</td>\n",
       "      <td>never</td>\n",
       "      <td>no</td>\n",
       "      <td>1.0</td>\n",
       "      <td>school_bus</td>\n",
       "      <td>5 - 10</td>\n",
       "      <td>45</td>\n",
       "      <td>56</td>\n",
       "      <td>42</td>\n",
       "      <td>48.0</td>\n",
       "    </tr>\n",
       "    <tr>\n",
       "      <th>4</th>\n",
       "      <td>male</td>\n",
       "      <td>group C</td>\n",
       "      <td>some college</td>\n",
       "      <td>standard</td>\n",
       "      <td>none</td>\n",
       "      <td>married</td>\n",
       "      <td>sometimes</td>\n",
       "      <td>yes</td>\n",
       "      <td>0.0</td>\n",
       "      <td>school_bus</td>\n",
       "      <td>5 - 10</td>\n",
       "      <td>76</td>\n",
       "      <td>78</td>\n",
       "      <td>75</td>\n",
       "      <td>76.0</td>\n",
       "    </tr>\n",
       "  </tbody>\n",
       "</table>\n",
       "</div>"
      ],
      "text/plain": [
       "   Gender EthnicGroup          ParentEduc     LunchType TestPrep  \\\n",
       "0  female     group C   bachelor's degree      standard     none   \n",
       "1  female     group C        some college      standard     none   \n",
       "2  female     group B     master's degree      standard     none   \n",
       "3    male     group A  associate's degree  free/reduced     none   \n",
       "4    male     group C        some college      standard     none   \n",
       "\n",
       "  ParentMaritalStatus PracticeSport IsFirstChild  NrSiblings TransportMeans  \\\n",
       "0             married     regularly          yes         3.0     school_bus   \n",
       "1             married     sometimes          yes         0.0     school_bus   \n",
       "2              single     sometimes          yes         4.0     school_bus   \n",
       "3             married         never           no         1.0     school_bus   \n",
       "4             married     sometimes          yes         0.0     school_bus   \n",
       "\n",
       "  WklyStudyHours  MathScore  ReadingScore  WritingScore  Score  \n",
       "0            < 5         71            71            74   72.0  \n",
       "1         5 - 10         69            90            88   82.0  \n",
       "2            < 5         87            93            91   90.0  \n",
       "3         5 - 10         45            56            42   48.0  \n",
       "4         5 - 10         76            78            75   76.0  "
      ]
     },
     "execution_count": 11,
     "metadata": {},
     "output_type": "execute_result"
    }
   ],
   "source": [
    "## Agregar una columna del promedio de los 3 scores de cada alumno\n",
    "\n",
    "df[\"Score\"]=((df[\"MathScore\"]+df[\"ReadingScore\"]+df[\"WritingScore\"])/3).round(0)\n",
    "df.head()"
   ]
  },
  {
   "cell_type": "markdown",
   "metadata": {},
   "source": [
    "Se agrega el promedio de los 3 exámenes y se agrega una columna con el promedio"
   ]
  },
  {
   "cell_type": "markdown",
   "metadata": {},
   "source": [
    "El objetivo como científico de datos es investigar la posible relación entre la actividad física, el estado civil de los padres y el g\n",
    "estudiantes, con los resultados de escritura, lectura y matemáticas en los exámenes. Este estudio tiene como propósito examinar cómo e\n",
    "influir en el rendimiento académico de los estudiantes en las áreas mencionadas.\n",
    "\n",
    "Para lograr este objetivo, se llevará a cabo un análisis de datos que incluirá la recopilación de información sobre la actividad físic\n",
    "estado civil de sus padres y su género. \n",
    "\n",
    "Se recopilarán datos tanto objetivos como subjetivos sobre la actividad física de los estudiantes, utilizando dispositivos de seguimie\n",
    "registros autoinformados. Además, se recopilará información sobre el estado civil de los padres, clasificando si son casados, solteros\n",
    "Asimismo, se registrará el género de los estudiantes, identificando si son hombres o mujeres.\n",
    "\n",
    "Posteriormente, se analizarán los resultados de escritura, lectura y matemáticas en los exámenes de los estudiantes. Se utilizarán téc\n",
    "estadístico, para identificar posibles relaciones entre la actividad física, el estado civil de los padres, el género de los estudiant\n",
    "estudio, cantidad de hermanos y el rendimiento académico (variables de confusión). Al controlar estas variables en el diseño y análisi\n",
    "aislar el efecto específico de la actividad física en el resultado de interés y determinar si existe una relación directa entre ellos.\n",
    "técnicas estadísticas adecuadas.\n",
    "\n",
    "Audicencia\n",
    "\n",
    "NUESTRA AUDIENCIA SON LOS PRINCIPALES ESTABLECIMIENTOS ACADÉMICOS PARA PODER PRESENTAR NUESTRO PROGRAMA INTEGRAL A LARGO PLAZO, QUE INCLUYE ACTIVIDADES FÍSICAS ESPECIFICAS PARA MEJORAR EL RENDIMIENTO ACADÉMICO DE SUS ESTUDIANTES.\n",
    "SE IMPLEMENTARÁ CAPACITACIÓN A CADA DE LOS DOCENTES Y PERSONAL ESCOLAR PARA QUE PUEDA IMPLEMENTAR Y SUPERVISAR EL PROGRAMA DE ACTIVIDAD FÍSICA.\n",
    "SE REALIZARÁN EVALUACIONES PERIÓDICAS PARA MEDIR EL IMPACTO DEL PROGRAMA EN EL RENDIMIENTO ACADÉMICO DE LOS ESTUDIANTES. ESTO PERMITIRÁ AJUSTAR Y MEJORAR CONTINUAMENTE EL PROGRAMA, DEMOSTRANDO ASÍ SU EFICACIA A LOS POTENCIALES CLIENTES.\n"
   ]
  },
  {
   "cell_type": "markdown",
   "metadata": {},
   "source": [
    "Vamos a realizar una serie de preguntas para analizar nuestra audiencia y poder realizar un estudio de mercado. \n",
    "\n",
    "**Objetivo final**:\n",
    "\n",
    "Establecer asociaciones a largo plazo con escuelas interesadas en mejorar el rendimiento académico de sus estudiantes a través de la actividad física, ofreciendo un programa efectivo respaldado por la investigación y demostrando resultados tangibles."
   ]
  },
  {
   "cell_type": "markdown",
   "metadata": {},
   "source": [
    "\n",
    "**PREGUNTA ÚTILES PARA ENTENDER LOS RESULTADOS**\n",
    "\n",
    "Score de examenes en matematicas, lectura y escritura  por genero , nivel de educacion de los padres , por practica de deportes , cantidsad de estudio , etc.\n",
    "\n",
    "1. ¿Cuáles son los Promedios de cada uno de los exámenes? \n",
    "2. ¿El genero influye en el promedio de los exámenes? y ¿cuales la cantidad de hombres y mujeres?\n",
    "3. ¿incide el nivel de educacion de los padres en el promedio de los exámenes?\n",
    "4. ¿como incide la cantidad de horas de estudio en los scores de los exámenes?\n",
    "5. ¿incide la practica de deportes en el promedio de los examenes? -- **pregunta objetivo del proyecto**\n",
    "   conclusion del estudio"
   ]
  },
  {
   "cell_type": "markdown",
   "metadata": {},
   "source": [
    "1. **PROMEDIOS DE CADA UNO DE LOS EXÁMENES**\n",
    "\n",
    "Vamos a ver como salieron los promedios totales de cada uno de las asignaturas que se tomo el estudio."
   ]
  },
  {
   "cell_type": "code",
   "execution_count": 13,
   "metadata": {},
   "outputs": [
    {
     "data": {
      "text/html": [
       "<div>\n",
       "<style scoped>\n",
       "    .dataframe tbody tr th:only-of-type {\n",
       "        vertical-align: middle;\n",
       "    }\n",
       "\n",
       "    .dataframe tbody tr th {\n",
       "        vertical-align: top;\n",
       "    }\n",
       "\n",
       "    .dataframe thead th {\n",
       "        text-align: right;\n",
       "    }\n",
       "</style>\n",
       "<table border=\"1\" class=\"dataframe\">\n",
       "  <thead>\n",
       "    <tr style=\"text-align: right;\">\n",
       "      <th></th>\n",
       "      <th>NrSiblings</th>\n",
       "      <th>MathScore</th>\n",
       "      <th>ReadingScore</th>\n",
       "      <th>WritingScore</th>\n",
       "      <th>Score</th>\n",
       "    </tr>\n",
       "  </thead>\n",
       "  <tbody>\n",
       "    <tr>\n",
       "      <th>count</th>\n",
       "      <td>30010.000000</td>\n",
       "      <td>30010.000000</td>\n",
       "      <td>30010.000000</td>\n",
       "      <td>30010.000000</td>\n",
       "      <td>30010.000000</td>\n",
       "    </tr>\n",
       "    <tr>\n",
       "      <th>mean</th>\n",
       "      <td>2.087404</td>\n",
       "      <td>66.556748</td>\n",
       "      <td>69.373109</td>\n",
       "      <td>68.416495</td>\n",
       "      <td>68.114195</td>\n",
       "    </tr>\n",
       "    <tr>\n",
       "      <th>std</th>\n",
       "      <td>1.442440</td>\n",
       "      <td>15.372186</td>\n",
       "      <td>14.768449</td>\n",
       "      <td>15.450080</td>\n",
       "      <td>14.465801</td>\n",
       "    </tr>\n",
       "    <tr>\n",
       "      <th>min</th>\n",
       "      <td>0.000000</td>\n",
       "      <td>0.000000</td>\n",
       "      <td>10.000000</td>\n",
       "      <td>4.000000</td>\n",
       "      <td>9.000000</td>\n",
       "    </tr>\n",
       "    <tr>\n",
       "      <th>25%</th>\n",
       "      <td>1.000000</td>\n",
       "      <td>56.000000</td>\n",
       "      <td>59.000000</td>\n",
       "      <td>58.000000</td>\n",
       "      <td>58.000000</td>\n",
       "    </tr>\n",
       "    <tr>\n",
       "      <th>50%</th>\n",
       "      <td>2.000000</td>\n",
       "      <td>67.000000</td>\n",
       "      <td>70.000000</td>\n",
       "      <td>69.000000</td>\n",
       "      <td>68.000000</td>\n",
       "    </tr>\n",
       "    <tr>\n",
       "      <th>75%</th>\n",
       "      <td>3.000000</td>\n",
       "      <td>78.000000</td>\n",
       "      <td>80.000000</td>\n",
       "      <td>79.000000</td>\n",
       "      <td>79.000000</td>\n",
       "    </tr>\n",
       "    <tr>\n",
       "      <th>max</th>\n",
       "      <td>7.000000</td>\n",
       "      <td>100.000000</td>\n",
       "      <td>100.000000</td>\n",
       "      <td>100.000000</td>\n",
       "      <td>100.000000</td>\n",
       "    </tr>\n",
       "  </tbody>\n",
       "</table>\n",
       "</div>"
      ],
      "text/plain": [
       "         NrSiblings     MathScore  ReadingScore  WritingScore         Score\n",
       "count  30010.000000  30010.000000  30010.000000  30010.000000  30010.000000\n",
       "mean       2.087404     66.556748     69.373109     68.416495     68.114195\n",
       "std        1.442440     15.372186     14.768449     15.450080     14.465801\n",
       "min        0.000000      0.000000     10.000000      4.000000      9.000000\n",
       "25%        1.000000     56.000000     59.000000     58.000000     58.000000\n",
       "50%        2.000000     67.000000     70.000000     69.000000     68.000000\n",
       "75%        3.000000     78.000000     80.000000     79.000000     79.000000\n",
       "max        7.000000    100.000000    100.000000    100.000000    100.000000"
      ]
     },
     "execution_count": 13,
     "metadata": {},
     "output_type": "execute_result"
    }
   ],
   "source": [
    "df.describe()"
   ]
  },
  {
   "cell_type": "code",
   "execution_count": 14,
   "metadata": {},
   "outputs": [
    {
     "data": {
      "text/plain": [
       "<Axes: xlabel='variable', ylabel='value'>"
      ]
     },
     "execution_count": 14,
     "metadata": {},
     "output_type": "execute_result"
    },
    {
     "data": {
      "image/png": "[encoded data removed]",
      "text/plain": [
       "<Figure size 640x480 with 1 Axes>"
      ]
     },
     "metadata": {},
     "output_type": "display_data"
    }
   ],
   "source": [
    "data=pd.DataFrame(df,columns=[\"MathScore\",\"ReadingScore\",\"WritingScore\"])\n",
    "data1=unpivoted = data.melt()\n",
    "sns.barplot(x=\"variable\", y=\"value\", data=data1)"
   ]
  },
  {
   "cell_type": "markdown",
   "metadata": {},
   "source": [
    "Se observa que los alumnos en este informe , tiene un buen promedios en los examenes de matematicas , lectura y escirtura. lo que se puede observar que en matematicas esta un poco por debajo con respecto a las otros examenes. \n",
    "matematicas el score es un 4.24 % por debajo de lectura y un 2.8% por debajo de escritur. "
   ]
  },
  {
   "cell_type": "markdown",
   "metadata": {},
   "source": [
    "2. **PROMEDIOS DE LOS EXÁMENES POR GÉNERO** (FEMENINO Y MASCULINO)\n",
    "\n",
    "Aca vamos a ver como se comportan los promedios de los examenes por genero. y se puede ver diferencias sobre todo en el examen de matematicas, donde los hombres tienen un mayor promedios que las mujeres, en lectura y escritura las mujeres tienen un mayor promedio que los hombres.\n"
   ]
  },
  {
   "cell_type": "code",
   "execution_count": 15,
   "metadata": {},
   "outputs": [
    {
     "data": {
      "text/plain": [
       "<seaborn.axisgrid.FacetGrid at 0x126bd1750>"
      ]
     },
     "execution_count": 15,
     "metadata": {},
     "output_type": "execute_result"
    },
    {
     "data": {
      "image/png": "[encoded data removed]",
      "text/plain": [
       "<Figure size 500x500 with 1 Axes>"
      ]
     },
     "metadata": {},
     "output_type": "display_data"
    },
    {
     "data": {
      "image/png": "[encoded data removed]",
      "text/plain": [
       "<Figure size 500x500 with 1 Axes>"
      ]
     },
     "metadata": {},
     "output_type": "display_data"
    },
    {
     "data": {
      "image/png": "[encoded data removed]",
      "text/plain": [
       "<Figure size 500x500 with 1 Axes>"
      ]
     },
     "metadata": {},
     "output_type": "display_data"
    }
   ],
   "source": [
    "sns.catplot(x=\"Gender\", y=\"MathScore\", data=df, kind=\"box\")\n",
    "sns.catplot(x=\"Gender\", y=\"ReadingScore\", data=df, kind=\"box\")\n",
    "sns.catplot(x=\"Gender\", y=\"WritingScore\", data=df, kind=\"box\")"
   ]
  },
  {
   "cell_type": "code",
   "execution_count": 16,
   "metadata": {},
   "outputs": [
    {
     "data": {
      "text/html": [
       "<div>\n",
       "<style scoped>\n",
       "    .dataframe tbody tr th:only-of-type {\n",
       "        vertical-align: middle;\n",
       "    }\n",
       "\n",
       "    .dataframe tbody tr th {\n",
       "        vertical-align: top;\n",
       "    }\n",
       "\n",
       "    .dataframe thead th {\n",
       "        text-align: right;\n",
       "    }\n",
       "</style>\n",
       "<table border=\"1\" class=\"dataframe\">\n",
       "  <thead>\n",
       "    <tr style=\"text-align: right;\">\n",
       "      <th></th>\n",
       "      <th>Score</th>\n",
       "    </tr>\n",
       "    <tr>\n",
       "      <th>Gender</th>\n",
       "      <th></th>\n",
       "    </tr>\n",
       "  </thead>\n",
       "  <tbody>\n",
       "    <tr>\n",
       "      <th>female</th>\n",
       "      <td>69.923520</td>\n",
       "    </tr>\n",
       "    <tr>\n",
       "      <th>male</th>\n",
       "      <td>66.281325</td>\n",
       "    </tr>\n",
       "  </tbody>\n",
       "</table>\n",
       "</div>"
      ],
      "text/plain": [
       "            Score\n",
       "Gender           \n",
       "female  69.923520\n",
       "male    66.281325"
      ]
     },
     "execution_count": 16,
     "metadata": {},
     "output_type": "execute_result"
    }
   ],
   "source": [
    "cuadro1=pd.DataFrame(data=df,columns=[\"Gender\",\"Score\"])\n",
    "cuadro2=cuadro1.groupby(\"Gender\").mean()\n",
    "cuadro2"
   ]
  },
  {
   "cell_type": "markdown",
   "metadata": {},
   "source": [
    "EL Score representa el promedio de los tres examenes que realizaron los alumnos. En mismo se  Observa que las mujeres tienen un promedio general de los 3 examenes mayor a los hombres un 5.5% mayor. "
   ]
  },
  {
   "cell_type": "markdown",
   "metadata": {},
   "source": [
    "En tota de los alumnos que participaron en este estudio , 30641 estudiantes de los cuales las mujeres representan un 50.4% y los hombres un 49.6% del total de los alumnos. es decir parejo la cantidad de hombres y mujeres."
   ]
  },
  {
   "cell_type": "code",
   "execution_count": 17,
   "metadata": {},
   "outputs": [
    {
     "data": {
      "text/plain": [
       "(30010, 15)"
      ]
     },
     "execution_count": 17,
     "metadata": {},
     "output_type": "execute_result"
    }
   ],
   "source": [
    "df.shape"
   ]
  },
  {
   "cell_type": "code",
   "execution_count": 18,
   "metadata": {},
   "outputs": [
    {
     "name": "stdout",
     "output_type": "stream",
     "text": [
      "Gender\n",
      "female    15102\n",
      "male      14908\n",
      "dtype: int64\n"
     ]
    },
    {
     "data": {
      "text/plain": [
       "<Axes: xlabel='Gender'>"
      ]
     },
     "execution_count": 18,
     "metadata": {},
     "output_type": "execute_result"
    },
    {
     "data": {
      "image/png": "[encoded data removed]",
      "text/plain": [
       "<Figure size 640x480 with 1 Axes>"
      ]
     },
     "metadata": {},
     "output_type": "display_data"
    }
   ],
   "source": [
    "cantidad=df.groupby(\"Gender\").size()\n",
    "print(cantidad)\n",
    "sns.barplot(x=cantidad.index, y=cantidad.values)"
   ]
  },
  {
   "cell_type": "markdown",
   "metadata": {},
   "source": [
    "3. **PROMEDIOS DE LOS EXÁMENES, SEGÚN EL NIVEL DE EDUCACIÓN DE LOS PADRES** \n",
    "¿incide en el promedio de los examenes?"
   ]
  },
  {
   "cell_type": "markdown",
   "metadata": {},
   "source": [
    "Aca nos pregutamos como el nivel de educacion en la familia puede influir en los scores de los alumnos"
   ]
  },
  {
   "cell_type": "code",
   "execution_count": 19,
   "metadata": {},
   "outputs": [
    {
     "data": {
      "text/plain": [
       "<seaborn.axisgrid.FacetGrid at 0x126ac8fd0>"
      ]
     },
     "execution_count": 19,
     "metadata": {},
     "output_type": "execute_result"
    },
    {
     "data": {
      "image/png": "[encoded data removed]",
      "text/plain": [
       "<Figure size 1000x500 with 1 Axes>"
      ]
     },
     "metadata": {},
     "output_type": "display_data"
    }
   ],
   "source": [
    "sns.catplot(data=df,x=\"ParentEduc\",y=\"Score\",kind=\"box\",aspect=2)"
   ]
  },
  {
   "cell_type": "markdown",
   "metadata": {},
   "source": [
    "Aca esta los principales score por nivel de educacion de los padres , se observa que los alumnos que tienen padres con un nivel de educacion de bachillerato y superior tienen mejores resultados en los examenes que los alumnos que tienen padres con un nivel de educacion de secundaria y primaria."
   ]
  },
  {
   "cell_type": "markdown",
   "metadata": {},
   "source": [
    "4. **CANTIDAD DE HORAS DE ESTUDIO DE LOS ALUMNOS**\n",
    "\n",
    "la cantidad de los horas de alumnmos estudian incide en los scores de los examenes? \n",
    "\n",
    "esta pregunta apriori se puede pensar que si , pero vamos a ver que nos dice los datos. "
   ]
  },
  {
   "cell_type": "code",
   "execution_count": 20,
   "metadata": {},
   "outputs": [
    {
     "data": {
      "text/plain": [
       "<seaborn.axisgrid.FacetGrid at 0x126dd9d50>"
      ]
     },
     "execution_count": 20,
     "metadata": {},
     "output_type": "execute_result"
    },
    {
     "data": {
      "image/png": "[encoded data removed]",
      "text/plain": [
       "<Figure size 1000x500 with 1 Axes>"
      ]
     },
     "metadata": {},
     "output_type": "display_data"
    }
   ],
   "source": [
    "sns.catplot(data=df,x=\"WklyStudyHours\",y=\"Score\",kind=\"box\",aspect=2)"
   ]
  },
  {
   "cell_type": "markdown",
   "metadata": {},
   "source": [
    "se puede observar que los promedios por cantidad de horas, estan mit parejos en lineas generales, pero cuanta mayor cantidad de horas estudian , se ve un leve aumento en los promedios de los examenes.\n",
    "vamos a ver como se comporta en cada uno de los examenes por separado."
   ]
  },
  {
   "cell_type": "code",
   "execution_count": 21,
   "metadata": {},
   "outputs": [
    {
     "data": {
      "text/plain": [
       "<seaborn.axisgrid.FacetGrid at 0x126d914d0>"
      ]
     },
     "execution_count": 21,
     "metadata": {},
     "output_type": "execute_result"
    },
    {
     "data": {
      "image/png": "[encoded data removed]",
      "text/plain": [
       "<Figure size 1000x500 with 1 Axes>"
      ]
     },
     "metadata": {},
     "output_type": "display_data"
    },
    {
     "data": {
      "image/png": "[encoded data removed]",
      "text/plain": [
       "<Figure size 1000x500 with 1 Axes>"
      ]
     },
     "metadata": {},
     "output_type": "display_data"
    },
    {
     "data": {
      "image/png": "[encoded data removed]",
      "text/plain": [
       "<Figure size 1000x500 with 1 Axes>"
      ]
     },
     "metadata": {},
     "output_type": "display_data"
    }
   ],
   "source": [
    "sns.catplot(data=df,x=\"WklyStudyHours\",y=\"MathScore\",kind=\"box\",aspect=2)\n",
    "sns.catplot(data=df,x=\"WklyStudyHours\",y=\"WritingScore\",kind=\"box\",aspect=2)\n",
    "sns.catplot(data=df,x=\"WklyStudyHours\",y=\"ReadingScore\",kind=\"box\",aspect=2)"
   ]
  },
  {
   "cell_type": "markdown",
   "metadata": {},
   "source": [
    "Se puede ver claramente que en matematica la cantidad de horas de estudio tiene un mejor promedio, en lectura y escritura no se ve una diferencia tan marcada."
   ]
  },
  {
   "cell_type": "markdown",
   "metadata": {},
   "source": [
    "5. **PROMEDIOS DE LOS EXÁMENES, SEGÚN LA PRÁCTICA DE DEPORTES**   --  OBJETIVO PRINCIPÁL DEL PROYECTO\n",
    "\n",
    "vamos a ver como incide la practica de deportes en los promedios de los examenes. es nuestro principal objetivo para este proyecto. \n",
    "Nosotros pensamos que la actividad fisica es muy importante para el desarrollo y la salud de los alumnos. Vamos a ver este estudio como el mismo incidio en el resultado de los examenes."
   ]
  },
  {
   "cell_type": "code",
   "execution_count": 17,
   "metadata": {},
   "outputs": [
    {
     "data": {
      "text/plain": [
       "<Axes: xlabel='PracticeSport', ylabel='Score'>"
      ]
     },
     "execution_count": 17,
     "metadata": {},
     "output_type": "execute_result"
    },
    {
     "data": {
      "image/png": "[encoded data removed]",
      "text/plain": [
       "<Figure size 640x480 with 1 Axes>"
      ]
     },
     "metadata": {},
     "output_type": "display_data"
    }
   ],
   "source": [
    "sns.barplot(data=df,x=\"PracticeSport\",y=\"Score\")"
   ]
  },
  {
   "cell_type": "markdown",
   "metadata": {},
   "source": [
    "Se observa que los alumnos que practican deportes tienen un mejor promedio en los examenes que los alumnos que no practican deportes. \n",
    "Ahora vamos a ver como se comporta en cada uno de los examenes por separado para ver si se mantiene la tendencia.  "
   ]
  },
  {
   "cell_type": "code",
   "execution_count": 18,
   "metadata": {},
   "outputs": [
    {
     "data": {
      "text/plain": [
       "<Axes: xlabel='PracticeSport', ylabel='MathScore'>"
      ]
     },
     "execution_count": 18,
     "metadata": {},
     "output_type": "execute_result"
    },
    {
     "data": {
      "image/png": "[encoded data removed]",
      "text/plain": [
       "<Figure size 640x480 with 1 Axes>"
      ]
     },
     "metadata": {},
     "output_type": "display_data"
    }
   ],
   "source": [
    "sns.barplot(data=df,x=\"PracticeSport\",y=\"MathScore\")"
   ]
  },
  {
   "cell_type": "markdown",
   "metadata": {},
   "source": [
    "En matematicas se observa resultados muy similares entre los alumnos que practican deportes y los que no practican deportes que el promedio de los 3 examenes."
   ]
  },
  {
   "cell_type": "code",
   "execution_count": 19,
   "metadata": {},
   "outputs": [
    {
     "data": {
      "text/plain": [
       "<Axes: xlabel='PracticeSport', ylabel='ReadingScore'>"
      ]
     },
     "execution_count": 19,
     "metadata": {},
     "output_type": "execute_result"
    },
    {
     "data": {
      "image/png": "[encoded data removed]",
      "text/plain": [
       "<Figure size 640x480 with 1 Axes>"
      ]
     },
     "metadata": {},
     "output_type": "display_data"
    }
   ],
   "source": [
    "sns.barplot(data=df,x=\"PracticeSport\",y=\"ReadingScore\")"
   ]
  },
  {
   "cell_type": "code",
   "execution_count": 20,
   "metadata": {},
   "outputs": [
    {
     "data": {
      "text/plain": [
       "<Axes: xlabel='PracticeSport', ylabel='WritingScore'>"
      ]
     },
     "execution_count": 20,
     "metadata": {},
     "output_type": "execute_result"
    },
    {
     "data": {
      "image/png": "[encoded data removed]",
      "text/plain": [
       "<Figure size 640x480 with 1 Axes>"
      ]
     },
     "metadata": {},
     "output_type": "display_data"
    }
   ],
   "source": [
    "sns.barplot(data=df,x=\"PracticeSport\",y=\"WritingScore\")"
   ]
  },
  {
   "cell_type": "markdown",
   "metadata": {},
   "source": [
    "Se puede ver que en matematicas y escritura los alumnos que practican deportes tienen un mejor promedio que los alumnos que no practican deportes. en lectura no se ve una diferencia tan marcada."
   ]
  },
  {
   "cell_type": "markdown",
   "metadata": {},
   "source": [
    "**CONCLUSIONES:**\n",
    "\n",
    "En este estudiuo se analizo varios aspectos de como incide en los scores de los examenes de los alumnos, como el genero , el nivel de educacion de los padres , la cantidad de horas de estudio y la practica de deportes.\n",
    "con respecto al genero se observa que las mujeres tienen un mejor promedio que los hombres en escritura y en lectura, pero en matematicas los hombres tienen un mejor promedio que las mujeres, esto no quiere decir que el universo de todos examenes se comporte de esta manera.\n",
    "con respecto al nivel de educacion de los padres, se observa que los alumnos que tienen padres con un nivel de educacion de bachillerato y superior tienen mejores resultados en los examenes que los alumnos que tienen padres con un nivel de educacion de secundaria y primaria, pero los resultados son muy parejos en lineas generales.\n",
    "La cantidad horas de estudios, si me causo una sorpresa con respecto a lo que tenia pensado, ya que el mismo no incide tanto en los resultados, donde mas incide , que es bastante logico es en matematicas.\n",
    "La practica de deportes, si incide en los resultados de los examenes, los alumnos que practican deportes tienen un mejor promedio en los examenes que los alumnos que no practican deportes en lineas generale, pero se observa una mayor incidencia en matematicas y escritura que en lectura."
   ]
  },
  {
   "cell_type": "markdown",
   "metadata": {},
   "source": [
    "**DATA CON OBTENCIÓN DE INSGHTS**"
   ]
  },
  {
   "cell_type": "markdown",
   "metadata": {},
   "source": [
    "Vamos a ver los Insights que nos dejo este estudio y tambien poder sacar otros datos para poder seguir analizando y sacar mas conclusiones al respecto. Usando la bivariate analysis."
   ]
  },
  {
   "cell_type": "markdown",
   "metadata": {},
   "source": [
    "Vamos a ver ahora si existen una correlacion entre las variables de nuestro estudio. Para eso tenemos que hacer una par de modificaciones a base para poder hacer el analisis de correlacion."
   ]
  },
  {
   "cell_type": "code",
   "execution_count": 21,
   "metadata": {},
   "outputs": [
    {
     "data": {
      "text/html": [
       "<div>\n",
       "<style scoped>\n",
       "    .dataframe tbody tr th:only-of-type {\n",
       "        vertical-align: middle;\n",
       "    }\n",
       "\n",
       "    .dataframe tbody tr th {\n",
       "        vertical-align: top;\n",
       "    }\n",
       "\n",
       "    .dataframe thead th {\n",
       "        text-align: right;\n",
       "    }\n",
       "</style>\n",
       "<table border=\"1\" class=\"dataframe\">\n",
       "  <thead>\n",
       "    <tr style=\"text-align: right;\">\n",
       "      <th></th>\n",
       "      <th>NrSiblings</th>\n",
       "      <th>MathScore</th>\n",
       "      <th>ReadingScore</th>\n",
       "      <th>WritingScore</th>\n",
       "      <th>Score</th>\n",
       "    </tr>\n",
       "  </thead>\n",
       "  <tbody>\n",
       "    <tr>\n",
       "      <th>count</th>\n",
       "      <td>4004.000000</td>\n",
       "      <td>4004.000000</td>\n",
       "      <td>4004.000000</td>\n",
       "      <td>4004.000000</td>\n",
       "      <td>4004.000000</td>\n",
       "    </tr>\n",
       "    <tr>\n",
       "      <th>mean</th>\n",
       "      <td>2.126374</td>\n",
       "      <td>64.171079</td>\n",
       "      <td>68.337662</td>\n",
       "      <td>66.522727</td>\n",
       "      <td>66.346653</td>\n",
       "    </tr>\n",
       "    <tr>\n",
       "      <th>std</th>\n",
       "      <td>1.455309</td>\n",
       "      <td>14.870058</td>\n",
       "      <td>14.641246</td>\n",
       "      <td>15.328275</td>\n",
       "      <td>14.259566</td>\n",
       "    </tr>\n",
       "    <tr>\n",
       "      <th>min</th>\n",
       "      <td>0.000000</td>\n",
       "      <td>10.000000</td>\n",
       "      <td>11.000000</td>\n",
       "      <td>4.000000</td>\n",
       "      <td>10.000000</td>\n",
       "    </tr>\n",
       "    <tr>\n",
       "      <th>25%</th>\n",
       "      <td>1.000000</td>\n",
       "      <td>54.000000</td>\n",
       "      <td>59.000000</td>\n",
       "      <td>56.000000</td>\n",
       "      <td>57.000000</td>\n",
       "    </tr>\n",
       "    <tr>\n",
       "      <th>50%</th>\n",
       "      <td>2.000000</td>\n",
       "      <td>64.000000</td>\n",
       "      <td>68.000000</td>\n",
       "      <td>67.000000</td>\n",
       "      <td>67.000000</td>\n",
       "    </tr>\n",
       "    <tr>\n",
       "      <th>75%</th>\n",
       "      <td>3.000000</td>\n",
       "      <td>75.000000</td>\n",
       "      <td>79.000000</td>\n",
       "      <td>78.000000</td>\n",
       "      <td>77.000000</td>\n",
       "    </tr>\n",
       "    <tr>\n",
       "      <th>max</th>\n",
       "      <td>7.000000</td>\n",
       "      <td>100.000000</td>\n",
       "      <td>99.000000</td>\n",
       "      <td>100.000000</td>\n",
       "      <td>99.000000</td>\n",
       "    </tr>\n",
       "  </tbody>\n",
       "</table>\n",
       "</div>"
      ],
      "text/plain": [
       "        NrSiblings    MathScore  ReadingScore  WritingScore        Score\n",
       "count  4004.000000  4004.000000   4004.000000   4004.000000  4004.000000\n",
       "mean      2.126374    64.171079     68.337662     66.522727    66.346653\n",
       "std       1.455309    14.870058     14.641246     15.328275    14.259566\n",
       "min       0.000000    10.000000     11.000000      4.000000    10.000000\n",
       "25%       1.000000    54.000000     59.000000     56.000000    57.000000\n",
       "50%       2.000000    64.000000     68.000000     67.000000    67.000000\n",
       "75%       3.000000    75.000000     79.000000     78.000000    77.000000\n",
       "max       7.000000   100.000000     99.000000    100.000000    99.000000"
      ]
     },
     "execution_count": 21,
     "metadata": {},
     "output_type": "execute_result"
    }
   ],
   "source": [
    "df1=df.query(\"PracticeSport == 'never'\") ## se filtra el dataset para que solo contenga los que nunca practican deporte\n",
    "df1.describe()"
   ]
  },
  {
   "cell_type": "code",
   "execution_count": 27,
   "metadata": {},
   "outputs": [
    {
     "data": {
      "text/html": [
       "<div>\n",
       "<style scoped>\n",
       "    .dataframe tbody tr th:only-of-type {\n",
       "        vertical-align: middle;\n",
       "    }\n",
       "\n",
       "    .dataframe tbody tr th {\n",
       "        vertical-align: top;\n",
       "    }\n",
       "\n",
       "    .dataframe thead th {\n",
       "        text-align: right;\n",
       "    }\n",
       "</style>\n",
       "<table border=\"1\" class=\"dataframe\">\n",
       "  <thead>\n",
       "    <tr style=\"text-align: right;\">\n",
       "      <th></th>\n",
       "      <th>NrSiblings</th>\n",
       "      <th>MathScore</th>\n",
       "      <th>ReadingScore</th>\n",
       "      <th>WritingScore</th>\n",
       "      <th>Score</th>\n",
       "      <th>ActividadFisica</th>\n",
       "      <th>NivelEducPadres</th>\n",
       "      <th>female</th>\n",
       "      <th>male</th>\n",
       "    </tr>\n",
       "  </thead>\n",
       "  <tbody>\n",
       "    <tr>\n",
       "      <th>count</th>\n",
       "      <td>26637.000000</td>\n",
       "      <td>26637.000000</td>\n",
       "      <td>26637.000000</td>\n",
       "      <td>26637.000000</td>\n",
       "      <td>26637.000000</td>\n",
       "      <td>26637.000000</td>\n",
       "      <td>26637.000000</td>\n",
       "      <td>26637.000000</td>\n",
       "      <td>26637.000000</td>\n",
       "    </tr>\n",
       "    <tr>\n",
       "      <th>mean</th>\n",
       "      <td>2.081203</td>\n",
       "      <td>66.917258</td>\n",
       "      <td>69.533844</td>\n",
       "      <td>68.703608</td>\n",
       "      <td>68.382813</td>\n",
       "      <td>1.405188</td>\n",
       "      <td>1.864624</td>\n",
       "      <td>0.503210</td>\n",
       "      <td>0.496790</td>\n",
       "    </tr>\n",
       "    <tr>\n",
       "      <th>std</th>\n",
       "      <td>1.440690</td>\n",
       "      <td>15.402464</td>\n",
       "      <td>14.770508</td>\n",
       "      <td>15.440947</td>\n",
       "      <td>14.467561</td>\n",
       "      <td>0.490938</td>\n",
       "      <td>1.574236</td>\n",
       "      <td>0.499999</td>\n",
       "      <td>0.499999</td>\n",
       "    </tr>\n",
       "    <tr>\n",
       "      <th>min</th>\n",
       "      <td>0.000000</td>\n",
       "      <td>0.000000</td>\n",
       "      <td>10.000000</td>\n",
       "      <td>10.000000</td>\n",
       "      <td>9.000000</td>\n",
       "      <td>1.000000</td>\n",
       "      <td>0.000000</td>\n",
       "      <td>0.000000</td>\n",
       "      <td>0.000000</td>\n",
       "    </tr>\n",
       "    <tr>\n",
       "      <th>25%</th>\n",
       "      <td>1.000000</td>\n",
       "      <td>56.000000</td>\n",
       "      <td>59.000000</td>\n",
       "      <td>58.000000</td>\n",
       "      <td>58.000000</td>\n",
       "      <td>1.000000</td>\n",
       "      <td>0.000000</td>\n",
       "      <td>0.000000</td>\n",
       "      <td>0.000000</td>\n",
       "    </tr>\n",
       "    <tr>\n",
       "      <th>50%</th>\n",
       "      <td>2.000000</td>\n",
       "      <td>67.000000</td>\n",
       "      <td>70.000000</td>\n",
       "      <td>69.000000</td>\n",
       "      <td>69.000000</td>\n",
       "      <td>1.000000</td>\n",
       "      <td>2.000000</td>\n",
       "      <td>1.000000</td>\n",
       "      <td>0.000000</td>\n",
       "    </tr>\n",
       "    <tr>\n",
       "      <th>75%</th>\n",
       "      <td>3.000000</td>\n",
       "      <td>78.000000</td>\n",
       "      <td>80.000000</td>\n",
       "      <td>80.000000</td>\n",
       "      <td>79.000000</td>\n",
       "      <td>2.000000</td>\n",
       "      <td>3.000000</td>\n",
       "      <td>1.000000</td>\n",
       "      <td>1.000000</td>\n",
       "    </tr>\n",
       "    <tr>\n",
       "      <th>max</th>\n",
       "      <td>7.000000</td>\n",
       "      <td>100.000000</td>\n",
       "      <td>100.000000</td>\n",
       "      <td>100.000000</td>\n",
       "      <td>100.000000</td>\n",
       "      <td>2.000000</td>\n",
       "      <td>5.000000</td>\n",
       "      <td>1.000000</td>\n",
       "      <td>1.000000</td>\n",
       "    </tr>\n",
       "  </tbody>\n",
       "</table>\n",
       "</div>"
      ],
      "text/plain": [
       "         NrSiblings     MathScore  ReadingScore  WritingScore         Score  \\\n",
       "count  26637.000000  26637.000000  26637.000000  26637.000000  26637.000000   \n",
       "mean       2.081203     66.917258     69.533844     68.703608     68.382813   \n",
       "std        1.440690     15.402464     14.770508     15.440947     14.467561   \n",
       "min        0.000000      0.000000     10.000000     10.000000      9.000000   \n",
       "25%        1.000000     56.000000     59.000000     58.000000     58.000000   \n",
       "50%        2.000000     67.000000     70.000000     69.000000     69.000000   \n",
       "75%        3.000000     78.000000     80.000000     80.000000     79.000000   \n",
       "max        7.000000    100.000000    100.000000    100.000000    100.000000   \n",
       "\n",
       "       ActividadFisica  NivelEducPadres        female          male  \n",
       "count     26637.000000     26637.000000  26637.000000  26637.000000  \n",
       "mean          1.405188         1.864624      0.503210      0.496790  \n",
       "std           0.490938         1.574236      0.499999      0.499999  \n",
       "min           1.000000         0.000000      0.000000      0.000000  \n",
       "25%           1.000000         0.000000      0.000000      0.000000  \n",
       "50%           1.000000         2.000000      1.000000      0.000000  \n",
       "75%           2.000000         3.000000      1.000000      1.000000  \n",
       "max           2.000000         5.000000      1.000000      1.000000  "
      ]
     },
     "execution_count": 27,
     "metadata": {},
     "output_type": "execute_result"
    }
   ],
   "source": [
    "df2=df.query(\"PracticeSport != 'never'\") ## se filtra el dataset para que solo contenga los que practican deporte (a veces o siempre)\n",
    "df2.describe()"
   ]
  },
  {
   "cell_type": "code",
   "execution_count": 28,
   "metadata": {},
   "outputs": [
    {
     "data": {
      "text/html": [
       "<div>\n",
       "<style scoped>\n",
       "    .dataframe tbody tr th:only-of-type {\n",
       "        vertical-align: middle;\n",
       "    }\n",
       "\n",
       "    .dataframe tbody tr th {\n",
       "        vertical-align: top;\n",
       "    }\n",
       "\n",
       "    .dataframe thead th {\n",
       "        text-align: right;\n",
       "    }\n",
       "</style>\n",
       "<table border=\"1\" class=\"dataframe\">\n",
       "  <thead>\n",
       "    <tr style=\"text-align: right;\">\n",
       "      <th></th>\n",
       "      <th>NrSiblings</th>\n",
       "      <th>MathScore</th>\n",
       "      <th>ReadingScore</th>\n",
       "      <th>WritingScore</th>\n",
       "      <th>Score</th>\n",
       "      <th>ActividadFisica</th>\n",
       "      <th>NivelEducPadres</th>\n",
       "      <th>female</th>\n",
       "      <th>male</th>\n",
       "    </tr>\n",
       "  </thead>\n",
       "  <tbody>\n",
       "    <tr>\n",
       "      <th>count</th>\n",
       "      <td>10793.000000</td>\n",
       "      <td>10793.000000</td>\n",
       "      <td>10793.000000</td>\n",
       "      <td>10793.000000</td>\n",
       "      <td>10793.000000</td>\n",
       "      <td>10793.0</td>\n",
       "      <td>10793.000000</td>\n",
       "      <td>10793.000000</td>\n",
       "      <td>10793.000000</td>\n",
       "    </tr>\n",
       "    <tr>\n",
       "      <th>mean</th>\n",
       "      <td>2.069582</td>\n",
       "      <td>67.839155</td>\n",
       "      <td>69.943019</td>\n",
       "      <td>69.604003</td>\n",
       "      <td>69.128324</td>\n",
       "      <td>2.0</td>\n",
       "      <td>1.846938</td>\n",
       "      <td>0.506254</td>\n",
       "      <td>0.493746</td>\n",
       "    </tr>\n",
       "    <tr>\n",
       "      <th>std</th>\n",
       "      <td>1.439886</td>\n",
       "      <td>15.642784</td>\n",
       "      <td>14.898551</td>\n",
       "      <td>15.513306</td>\n",
       "      <td>14.604463</td>\n",
       "      <td>0.0</td>\n",
       "      <td>1.582227</td>\n",
       "      <td>0.499984</td>\n",
       "      <td>0.499984</td>\n",
       "    </tr>\n",
       "    <tr>\n",
       "      <th>min</th>\n",
       "      <td>0.000000</td>\n",
       "      <td>0.000000</td>\n",
       "      <td>17.000000</td>\n",
       "      <td>10.000000</td>\n",
       "      <td>9.000000</td>\n",
       "      <td>2.0</td>\n",
       "      <td>0.000000</td>\n",
       "      <td>0.000000</td>\n",
       "      <td>0.000000</td>\n",
       "    </tr>\n",
       "    <tr>\n",
       "      <th>25%</th>\n",
       "      <td>1.000000</td>\n",
       "      <td>57.000000</td>\n",
       "      <td>60.000000</td>\n",
       "      <td>59.000000</td>\n",
       "      <td>59.000000</td>\n",
       "      <td>2.0</td>\n",
       "      <td>0.000000</td>\n",
       "      <td>0.000000</td>\n",
       "      <td>0.000000</td>\n",
       "    </tr>\n",
       "    <tr>\n",
       "      <th>50%</th>\n",
       "      <td>2.000000</td>\n",
       "      <td>68.000000</td>\n",
       "      <td>70.000000</td>\n",
       "      <td>70.000000</td>\n",
       "      <td>69.000000</td>\n",
       "      <td>2.0</td>\n",
       "      <td>2.000000</td>\n",
       "      <td>1.000000</td>\n",
       "      <td>0.000000</td>\n",
       "    </tr>\n",
       "    <tr>\n",
       "      <th>75%</th>\n",
       "      <td>3.000000</td>\n",
       "      <td>79.000000</td>\n",
       "      <td>81.000000</td>\n",
       "      <td>80.000000</td>\n",
       "      <td>80.000000</td>\n",
       "      <td>2.0</td>\n",
       "      <td>3.000000</td>\n",
       "      <td>1.000000</td>\n",
       "      <td>1.000000</td>\n",
       "    </tr>\n",
       "    <tr>\n",
       "      <th>max</th>\n",
       "      <td>7.000000</td>\n",
       "      <td>100.000000</td>\n",
       "      <td>100.000000</td>\n",
       "      <td>100.000000</td>\n",
       "      <td>100.000000</td>\n",
       "      <td>2.0</td>\n",
       "      <td>5.000000</td>\n",
       "      <td>1.000000</td>\n",
       "      <td>1.000000</td>\n",
       "    </tr>\n",
       "  </tbody>\n",
       "</table>\n",
       "</div>"
      ],
      "text/plain": [
       "         NrSiblings     MathScore  ReadingScore  WritingScore         Score  \\\n",
       "count  10793.000000  10793.000000  10793.000000  10793.000000  10793.000000   \n",
       "mean       2.069582     67.839155     69.943019     69.604003     69.128324   \n",
       "std        1.439886     15.642784     14.898551     15.513306     14.604463   \n",
       "min        0.000000      0.000000     17.000000     10.000000      9.000000   \n",
       "25%        1.000000     57.000000     60.000000     59.000000     59.000000   \n",
       "50%        2.000000     68.000000     70.000000     70.000000     69.000000   \n",
       "75%        3.000000     79.000000     81.000000     80.000000     80.000000   \n",
       "max        7.000000    100.000000    100.000000    100.000000    100.000000   \n",
       "\n",
       "       ActividadFisica  NivelEducPadres        female          male  \n",
       "count          10793.0     10793.000000  10793.000000  10793.000000  \n",
       "mean               2.0         1.846938      0.506254      0.493746  \n",
       "std                0.0         1.582227      0.499984      0.499984  \n",
       "min                2.0         0.000000      0.000000      0.000000  \n",
       "25%                2.0         0.000000      0.000000      0.000000  \n",
       "50%                2.0         2.000000      1.000000      0.000000  \n",
       "75%                2.0         3.000000      1.000000      1.000000  \n",
       "max                2.0         5.000000      1.000000      1.000000  "
      ]
     },
     "execution_count": 28,
     "metadata": {},
     "output_type": "execute_result"
    }
   ],
   "source": [
    "df3=df.query(\"PracticeSport == 'regularly'\") ## se filtra el dataset para que solo contenga los que practican deporte siempre\n",
    "df3.describe()"
   ]
  },
  {
   "cell_type": "markdown",
   "metadata": {},
   "source": [
    "lo que Nunca realizaron ejercicios se observo los siguientes promedios  en matemáticas 64.1, en Lectura 68.3 y en Escritura 66.5 \n",
    "lo que realizan algunas veces ejercicios se observó 66,3 en matemáticas,69.2 en lectura y 68.0 en escritura\n",
    " y lo que siempre hacen ejercicios, en matemáticas **67.8**,en lectura **69.9** y en escritura **69.6**"
   ]
  },
  {
   "cell_type": "code",
   "execution_count": 22,
   "metadata": {},
   "outputs": [
    {
     "data": {
      "text/html": [
       "<div>\n",
       "<style scoped>\n",
       "    .dataframe tbody tr th:only-of-type {\n",
       "        vertical-align: middle;\n",
       "    }\n",
       "\n",
       "    .dataframe tbody tr th {\n",
       "        vertical-align: top;\n",
       "    }\n",
       "\n",
       "    .dataframe thead th {\n",
       "        text-align: right;\n",
       "    }\n",
       "</style>\n",
       "<table border=\"1\" class=\"dataframe\">\n",
       "  <thead>\n",
       "    <tr style=\"text-align: right;\">\n",
       "      <th></th>\n",
       "      <th>Gender</th>\n",
       "      <th>EthnicGroup</th>\n",
       "      <th>ParentEduc</th>\n",
       "      <th>LunchType</th>\n",
       "      <th>TestPrep</th>\n",
       "      <th>ParentMaritalStatus</th>\n",
       "      <th>PracticeSport</th>\n",
       "      <th>IsFirstChild</th>\n",
       "      <th>NrSiblings</th>\n",
       "      <th>TransportMeans</th>\n",
       "      <th>WklyStudyHours</th>\n",
       "      <th>MathScore</th>\n",
       "      <th>ReadingScore</th>\n",
       "      <th>WritingScore</th>\n",
       "      <th>Score</th>\n",
       "      <th>ActividadFisica</th>\n",
       "    </tr>\n",
       "  </thead>\n",
       "  <tbody>\n",
       "    <tr>\n",
       "      <th>0</th>\n",
       "      <td>female</td>\n",
       "      <td>group C</td>\n",
       "      <td>bachelor's degree</td>\n",
       "      <td>standard</td>\n",
       "      <td>none</td>\n",
       "      <td>married</td>\n",
       "      <td>regularly</td>\n",
       "      <td>yes</td>\n",
       "      <td>3.0</td>\n",
       "      <td>school_bus</td>\n",
       "      <td>&lt; 5</td>\n",
       "      <td>71</td>\n",
       "      <td>71</td>\n",
       "      <td>74</td>\n",
       "      <td>72.0</td>\n",
       "      <td>2.0</td>\n",
       "    </tr>\n",
       "    <tr>\n",
       "      <th>1</th>\n",
       "      <td>female</td>\n",
       "      <td>group C</td>\n",
       "      <td>some college</td>\n",
       "      <td>standard</td>\n",
       "      <td>none</td>\n",
       "      <td>married</td>\n",
       "      <td>sometimes</td>\n",
       "      <td>yes</td>\n",
       "      <td>0.0</td>\n",
       "      <td>school_bus</td>\n",
       "      <td>5 - 10</td>\n",
       "      <td>69</td>\n",
       "      <td>90</td>\n",
       "      <td>88</td>\n",
       "      <td>82.0</td>\n",
       "      <td>1.0</td>\n",
       "    </tr>\n",
       "    <tr>\n",
       "      <th>2</th>\n",
       "      <td>female</td>\n",
       "      <td>group B</td>\n",
       "      <td>master's degree</td>\n",
       "      <td>standard</td>\n",
       "      <td>none</td>\n",
       "      <td>single</td>\n",
       "      <td>sometimes</td>\n",
       "      <td>yes</td>\n",
       "      <td>4.0</td>\n",
       "      <td>school_bus</td>\n",
       "      <td>&lt; 5</td>\n",
       "      <td>87</td>\n",
       "      <td>93</td>\n",
       "      <td>91</td>\n",
       "      <td>90.0</td>\n",
       "      <td>1.0</td>\n",
       "    </tr>\n",
       "    <tr>\n",
       "      <th>3</th>\n",
       "      <td>male</td>\n",
       "      <td>group A</td>\n",
       "      <td>associate's degree</td>\n",
       "      <td>free/reduced</td>\n",
       "      <td>none</td>\n",
       "      <td>married</td>\n",
       "      <td>never</td>\n",
       "      <td>no</td>\n",
       "      <td>1.0</td>\n",
       "      <td>school_bus</td>\n",
       "      <td>5 - 10</td>\n",
       "      <td>45</td>\n",
       "      <td>56</td>\n",
       "      <td>42</td>\n",
       "      <td>48.0</td>\n",
       "      <td>0.0</td>\n",
       "    </tr>\n",
       "    <tr>\n",
       "      <th>4</th>\n",
       "      <td>male</td>\n",
       "      <td>group C</td>\n",
       "      <td>some college</td>\n",
       "      <td>standard</td>\n",
       "      <td>none</td>\n",
       "      <td>married</td>\n",
       "      <td>sometimes</td>\n",
       "      <td>yes</td>\n",
       "      <td>0.0</td>\n",
       "      <td>school_bus</td>\n",
       "      <td>5 - 10</td>\n",
       "      <td>76</td>\n",
       "      <td>78</td>\n",
       "      <td>75</td>\n",
       "      <td>76.0</td>\n",
       "      <td>1.0</td>\n",
       "    </tr>\n",
       "  </tbody>\n",
       "</table>\n",
       "</div>"
      ],
      "text/plain": [
       "   Gender EthnicGroup          ParentEduc     LunchType TestPrep  \\\n",
       "0  female     group C   bachelor's degree      standard     none   \n",
       "1  female     group C        some college      standard     none   \n",
       "2  female     group B     master's degree      standard     none   \n",
       "3    male     group A  associate's degree  free/reduced     none   \n",
       "4    male     group C        some college      standard     none   \n",
       "\n",
       "  ParentMaritalStatus PracticeSport IsFirstChild  NrSiblings TransportMeans  \\\n",
       "0             married     regularly          yes         3.0     school_bus   \n",
       "1             married     sometimes          yes         0.0     school_bus   \n",
       "2              single     sometimes          yes         4.0     school_bus   \n",
       "3             married         never           no         1.0     school_bus   \n",
       "4             married     sometimes          yes         0.0     school_bus   \n",
       "\n",
       "  WklyStudyHours  MathScore  ReadingScore  WritingScore  Score  \\\n",
       "0            < 5         71            71            74   72.0   \n",
       "1         5 - 10         69            90            88   82.0   \n",
       "2            < 5         87            93            91   90.0   \n",
       "3         5 - 10         45            56            42   48.0   \n",
       "4         5 - 10         76            78            75   76.0   \n",
       "\n",
       "   ActividadFisica  \n",
       "0              2.0  \n",
       "1              1.0  \n",
       "2              1.0  \n",
       "3              0.0  \n",
       "4              1.0  "
      ]
     },
     "execution_count": 22,
     "metadata": {},
     "output_type": "execute_result"
    }
   ],
   "source": [
    "from sklearn.preprocessing import OrdinalEncoder\n",
    "\n",
    "encoder = OrdinalEncoder(categories=[[\"never\",\"sometimes\",\"regularly\"]]) # create the encoder object to encode categorical variables\n",
    "encoder.fit(df[[\"PracticeSport\"]]) # encode the categorical variable\n",
    "df[\"ActividadFisica\"] = encoder.transform(df[[\"PracticeSport\"]]) # assign the encoded variable to a new column\n",
    "df.head(5) # display the first 5 rows to check if the data was imported correctly\n"
   ]
  },
  {
   "cell_type": "code",
   "execution_count": 23,
   "metadata": {},
   "outputs": [
    {
     "data": {
      "text/html": [
       "<div>\n",
       "<style scoped>\n",
       "    .dataframe tbody tr th:only-of-type {\n",
       "        vertical-align: middle;\n",
       "    }\n",
       "\n",
       "    .dataframe tbody tr th {\n",
       "        vertical-align: top;\n",
       "    }\n",
       "\n",
       "    .dataframe thead th {\n",
       "        text-align: right;\n",
       "    }\n",
       "</style>\n",
       "<table border=\"1\" class=\"dataframe\">\n",
       "  <thead>\n",
       "    <tr style=\"text-align: right;\">\n",
       "      <th></th>\n",
       "      <th>Gender</th>\n",
       "      <th>EthnicGroup</th>\n",
       "      <th>ParentEduc</th>\n",
       "      <th>LunchType</th>\n",
       "      <th>TestPrep</th>\n",
       "      <th>ParentMaritalStatus</th>\n",
       "      <th>PracticeSport</th>\n",
       "      <th>IsFirstChild</th>\n",
       "      <th>NrSiblings</th>\n",
       "      <th>TransportMeans</th>\n",
       "      <th>WklyStudyHours</th>\n",
       "      <th>MathScore</th>\n",
       "      <th>ReadingScore</th>\n",
       "      <th>WritingScore</th>\n",
       "      <th>Score</th>\n",
       "      <th>ActividadFisica</th>\n",
       "      <th>NivelEducPadres</th>\n",
       "    </tr>\n",
       "  </thead>\n",
       "  <tbody>\n",
       "    <tr>\n",
       "      <th>0</th>\n",
       "      <td>female</td>\n",
       "      <td>group C</td>\n",
       "      <td>bachelor's degree</td>\n",
       "      <td>standard</td>\n",
       "      <td>none</td>\n",
       "      <td>married</td>\n",
       "      <td>regularly</td>\n",
       "      <td>yes</td>\n",
       "      <td>3.0</td>\n",
       "      <td>school_bus</td>\n",
       "      <td>&lt; 5</td>\n",
       "      <td>71</td>\n",
       "      <td>71</td>\n",
       "      <td>74</td>\n",
       "      <td>72.0</td>\n",
       "      <td>2.0</td>\n",
       "      <td>4.0</td>\n",
       "    </tr>\n",
       "    <tr>\n",
       "      <th>1</th>\n",
       "      <td>female</td>\n",
       "      <td>group C</td>\n",
       "      <td>some college</td>\n",
       "      <td>standard</td>\n",
       "      <td>none</td>\n",
       "      <td>married</td>\n",
       "      <td>sometimes</td>\n",
       "      <td>yes</td>\n",
       "      <td>0.0</td>\n",
       "      <td>school_bus</td>\n",
       "      <td>5 - 10</td>\n",
       "      <td>69</td>\n",
       "      <td>90</td>\n",
       "      <td>88</td>\n",
       "      <td>82.0</td>\n",
       "      <td>1.0</td>\n",
       "      <td>0.0</td>\n",
       "    </tr>\n",
       "    <tr>\n",
       "      <th>2</th>\n",
       "      <td>female</td>\n",
       "      <td>group B</td>\n",
       "      <td>master's degree</td>\n",
       "      <td>standard</td>\n",
       "      <td>none</td>\n",
       "      <td>single</td>\n",
       "      <td>sometimes</td>\n",
       "      <td>yes</td>\n",
       "      <td>4.0</td>\n",
       "      <td>school_bus</td>\n",
       "      <td>&lt; 5</td>\n",
       "      <td>87</td>\n",
       "      <td>93</td>\n",
       "      <td>91</td>\n",
       "      <td>90.0</td>\n",
       "      <td>1.0</td>\n",
       "      <td>5.0</td>\n",
       "    </tr>\n",
       "    <tr>\n",
       "      <th>3</th>\n",
       "      <td>male</td>\n",
       "      <td>group A</td>\n",
       "      <td>associate's degree</td>\n",
       "      <td>free/reduced</td>\n",
       "      <td>none</td>\n",
       "      <td>married</td>\n",
       "      <td>never</td>\n",
       "      <td>no</td>\n",
       "      <td>1.0</td>\n",
       "      <td>school_bus</td>\n",
       "      <td>5 - 10</td>\n",
       "      <td>45</td>\n",
       "      <td>56</td>\n",
       "      <td>42</td>\n",
       "      <td>48.0</td>\n",
       "      <td>0.0</td>\n",
       "      <td>3.0</td>\n",
       "    </tr>\n",
       "    <tr>\n",
       "      <th>4</th>\n",
       "      <td>male</td>\n",
       "      <td>group C</td>\n",
       "      <td>some college</td>\n",
       "      <td>standard</td>\n",
       "      <td>none</td>\n",
       "      <td>married</td>\n",
       "      <td>sometimes</td>\n",
       "      <td>yes</td>\n",
       "      <td>0.0</td>\n",
       "      <td>school_bus</td>\n",
       "      <td>5 - 10</td>\n",
       "      <td>76</td>\n",
       "      <td>78</td>\n",
       "      <td>75</td>\n",
       "      <td>76.0</td>\n",
       "      <td>1.0</td>\n",
       "      <td>0.0</td>\n",
       "    </tr>\n",
       "  </tbody>\n",
       "</table>\n",
       "</div>"
      ],
      "text/plain": [
       "   Gender EthnicGroup          ParentEduc     LunchType TestPrep  \\\n",
       "0  female     group C   bachelor's degree      standard     none   \n",
       "1  female     group C        some college      standard     none   \n",
       "2  female     group B     master's degree      standard     none   \n",
       "3    male     group A  associate's degree  free/reduced     none   \n",
       "4    male     group C        some college      standard     none   \n",
       "\n",
       "  ParentMaritalStatus PracticeSport IsFirstChild  NrSiblings TransportMeans  \\\n",
       "0             married     regularly          yes         3.0     school_bus   \n",
       "1             married     sometimes          yes         0.0     school_bus   \n",
       "2              single     sometimes          yes         4.0     school_bus   \n",
       "3             married         never           no         1.0     school_bus   \n",
       "4             married     sometimes          yes         0.0     school_bus   \n",
       "\n",
       "  WklyStudyHours  MathScore  ReadingScore  WritingScore  Score  \\\n",
       "0            < 5         71            71            74   72.0   \n",
       "1         5 - 10         69            90            88   82.0   \n",
       "2            < 5         87            93            91   90.0   \n",
       "3         5 - 10         45            56            42   48.0   \n",
       "4         5 - 10         76            78            75   76.0   \n",
       "\n",
       "   ActividadFisica  NivelEducPadres  \n",
       "0              2.0              4.0  \n",
       "1              1.0              0.0  \n",
       "2              1.0              5.0  \n",
       "3              0.0              3.0  \n",
       "4              1.0              0.0  "
      ]
     },
     "execution_count": 23,
     "metadata": {},
     "output_type": "execute_result"
    }
   ],
   "source": [
    "encoder = OrdinalEncoder (categories=[[\"some college\",\"some high school\",\"high school\",\"associate's degree\",\"bachelor's degree\",\"master's degree\"]]) # se crea el objeto para codificar las variable\n",
    "encoder.fit(df[[\"ParentEduc\"]]) # se codifican las variables categoricas\n",
    "df[[\"NivelEducPadres\"]]=encoder.transform(df[[\"ParentEduc\"]]) # se codifican las variables categoricas\n",
    "data=df.drop(columns=[\"ParentEduc\"]) # se eliminan las columnas que no se van a utilizar\n",
    "df.head(5) # muestreo de los primeros 5 registros para ver la estructura de los datos, para ver si se importaron correctamente\n"
   ]
  },
  {
   "cell_type": "markdown",
   "metadata": {},
   "source": [
    "Se establece un orden para poder ver los niveles de educacion de los padres y poder hacer el analisis de correlacion."
   ]
  },
  {
   "cell_type": "code",
   "execution_count": 24,
   "metadata": {},
   "outputs": [],
   "source": [
    "dummies = pd.get_dummies(df[\"Gender\"]) # se crea un dataframe con las variables categoricas\n",
    "dummies.head(5) # muestreo de los primeros 5 registros para ver la estructura de los datos, para ver si se importaron correctamente\n",
    "df=pd.concat([df,dummies],axis=1) # se concatenan los dataframes\n"
   ]
  },
  {
   "cell_type": "markdown",
   "metadata": {},
   "source": [
    "Lo que se hizo en este caso , es transformar las variables categoricas en numericas para poder hacer el analisis de correlacion."
   ]
  },
  {
   "cell_type": "code",
   "execution_count": 25,
   "metadata": {},
   "outputs": [
    {
     "name": "stdout",
     "output_type": "stream",
     "text": [
      "                 NrSiblings  MathScore  ReadingScore  WritingScore     Score  \\\n",
      "NrSiblings         1.000000  -0.001924      0.000055     -0.000523 -0.000779   \n",
      "MathScore         -0.001924   1.000000      0.808669      0.796358  0.914700   \n",
      "ReadingScore       0.000055   0.808669      1.000000      0.949953  0.967449   \n",
      "WritingScore      -0.000523   0.796358      0.949953      1.000000  0.963590   \n",
      "Score             -0.000779   0.914700      0.967449      0.963590  1.000000   \n",
      "ActividadFisica   -0.011412   0.071182      0.031016      0.059154  0.056393   \n",
      "NivelEducPadres   -0.007801   0.113762      0.122027      0.137773  0.130930   \n",
      "female             0.002181  -0.156658      0.232952      0.285630  0.124251   \n",
      "male              -0.002181   0.156658     -0.232952     -0.285630 -0.124251   \n",
      "\n",
      "                 ActividadFisica  NivelEducPadres    female      male  \n",
      "NrSiblings             -0.011412        -0.007801  0.002181 -0.002181  \n",
      "MathScore               0.071182         0.113762 -0.156658  0.156658  \n",
      "ReadingScore            0.031016         0.122027  0.232952 -0.232952  \n",
      "WritingScore            0.059154         0.137773  0.285630 -0.285630  \n",
      "Score                   0.056393         0.130930  0.124251 -0.124251  \n",
      "ActividadFisica         1.000000        -0.008907  0.003015 -0.003015  \n",
      "NivelEducPadres        -0.008907         1.000000 -0.004369  0.004369  \n",
      "female                  0.003015        -0.004369  1.000000 -1.000000  \n",
      "male                   -0.003015         0.004369 -1.000000  1.000000  \n"
     ]
    },
    {
     "name": "stderr",
     "output_type": "stream",
     "text": [
      "/var/folders/y8/3xc807fn6xj09jzhy69h8y_40000gn/T/ipykernel_1182/4234295243.py:1: FutureWarning: The default value of numeric_only in DataFrame.corr is deprecated. In a future version, it will default to False. Select only valid columns or specify the value of numeric_only to silence this warning.\n",
      "  correlacion=df.corr(method='spearman') # correlacion de las variables\n"
     ]
    }
   ],
   "source": [
    "correlacion=df.corr(method='spearman') # correlacion de las variables\n",
    "print(correlacion) # se imprime la correlacion"
   ]
  },
  {
   "cell_type": "code",
   "execution_count": 26,
   "metadata": {},
   "outputs": [
    {
     "data": {
      "image/png": "[encoded data removed]",
      "text/plain": [
       "<Figure size 1000x1000 with 2 Axes>"
      ]
     },
     "metadata": {},
     "output_type": "display_data"
    }
   ],
   "source": [
    "fig, ax = plt.subplots(figsize=(10,10)) # se crea el objeto para graficar\n",
    "sns.heatmap(correlacion, annot=True, linewidths=.7, ax=ax) # se grafica la correlacion\n",
    "plt.show() # se muestra la grafica\n"
   ]
  },
  {
   "cell_type": "markdown",
   "metadata": {},
   "source": [
    "se puede observar varias cosas, no hay una relacion fuerte entre las variables actividad fisica, el nivel de educacion de los padres y el genero , si lo que se puede ver que el mas fuerte de ellos es el género. se puede ver que en escritura y lectura la relacion entre el sexo masculino y los estos scores son negativos y en matematicas son positivos, igual no es fuerte , y la inversa en el genero femenino.\n",
    "\n",
    "Con respecto a la actividad fisica la correlacion es casi nula , pero en matematicas y escritura son la mas fuerte de las 3 asignaturas. ¿Esto quiere decir que la actividad fisica no incide en los scores de los examenes de los alumnos?, bueno no lo podemos confirmar con este analisis de correlacion , pero si en las medias que vimnos anteriormente que , si incide en los scores de los examenes de los alumnos."
   ]
  },
  {
   "cell_type": "markdown",
   "metadata": {},
   "source": [
    "**VALORES ATIPICOS**"
   ]
  },
  {
   "cell_type": "code",
   "execution_count": 22,
   "metadata": {},
   "outputs": [],
   "source": [
    "Estadisticas=df['Score'].describe()"
   ]
  },
  {
   "cell_type": "code",
   "execution_count": 23,
   "metadata": {},
   "outputs": [
    {
     "name": "stdout",
     "output_type": "stream",
     "text": [
      "21.0\n"
     ]
    }
   ],
   "source": [
    "Q1 = Estadisticas.loc['25%']\n",
    "Q3 = Estadisticas.loc['75%']\n",
    "IQR = Q3 - Q1\n",
    "print(IQR)"
   ]
  },
  {
   "cell_type": "code",
   "execution_count": 24,
   "metadata": {},
   "outputs": [
    {
     "data": {
      "text/html": [
       "<div>\n",
       "<style scoped>\n",
       "    .dataframe tbody tr th:only-of-type {\n",
       "        vertical-align: middle;\n",
       "    }\n",
       "\n",
       "    .dataframe tbody tr th {\n",
       "        vertical-align: top;\n",
       "    }\n",
       "\n",
       "    .dataframe thead th {\n",
       "        text-align: right;\n",
       "    }\n",
       "</style>\n",
       "<table border=\"1\" class=\"dataframe\">\n",
       "  <thead>\n",
       "    <tr style=\"text-align: right;\">\n",
       "      <th></th>\n",
       "      <th>Gender</th>\n",
       "      <th>EthnicGroup</th>\n",
       "      <th>ParentEduc</th>\n",
       "      <th>LunchType</th>\n",
       "      <th>TestPrep</th>\n",
       "      <th>ParentMaritalStatus</th>\n",
       "      <th>PracticeSport</th>\n",
       "      <th>IsFirstChild</th>\n",
       "      <th>NrSiblings</th>\n",
       "      <th>TransportMeans</th>\n",
       "      <th>WklyStudyHours</th>\n",
       "      <th>MathScore</th>\n",
       "      <th>ReadingScore</th>\n",
       "      <th>WritingScore</th>\n",
       "      <th>Score</th>\n",
       "    </tr>\n",
       "  </thead>\n",
       "  <tbody>\n",
       "    <tr>\n",
       "      <th>17</th>\n",
       "      <td>female</td>\n",
       "      <td>group B</td>\n",
       "      <td>some high school</td>\n",
       "      <td>free/reduced</td>\n",
       "      <td>none</td>\n",
       "      <td>divorced</td>\n",
       "      <td>sometimes</td>\n",
       "      <td>yes</td>\n",
       "      <td>1.0</td>\n",
       "      <td>school_bus</td>\n",
       "      <td>5 - 10</td>\n",
       "      <td>18</td>\n",
       "      <td>32</td>\n",
       "      <td>28</td>\n",
       "      <td>26.0</td>\n",
       "    </tr>\n",
       "    <tr>\n",
       "      <th>59</th>\n",
       "      <td>female</td>\n",
       "      <td>group C</td>\n",
       "      <td>some high school</td>\n",
       "      <td>free/reduced</td>\n",
       "      <td>none</td>\n",
       "      <td>single</td>\n",
       "      <td>regularly</td>\n",
       "      <td>yes</td>\n",
       "      <td>3.0</td>\n",
       "      <td>school_bus</td>\n",
       "      <td>&gt; 10</td>\n",
       "      <td>0</td>\n",
       "      <td>17</td>\n",
       "      <td>10</td>\n",
       "      <td>9.0</td>\n",
       "    </tr>\n",
       "    <tr>\n",
       "      <th>76</th>\n",
       "      <td>male</td>\n",
       "      <td>group E</td>\n",
       "      <td>some high school</td>\n",
       "      <td>standard</td>\n",
       "      <td>none</td>\n",
       "      <td>married</td>\n",
       "      <td>sometimes</td>\n",
       "      <td>no</td>\n",
       "      <td>5.0</td>\n",
       "      <td>school_bus</td>\n",
       "      <td>5 - 10</td>\n",
       "      <td>28</td>\n",
       "      <td>25</td>\n",
       "      <td>21</td>\n",
       "      <td>25.0</td>\n",
       "    </tr>\n",
       "    <tr>\n",
       "      <th>327</th>\n",
       "      <td>male</td>\n",
       "      <td>group A</td>\n",
       "      <td>some college</td>\n",
       "      <td>free/reduced</td>\n",
       "      <td>none</td>\n",
       "      <td>married</td>\n",
       "      <td>regularly</td>\n",
       "      <td>yes</td>\n",
       "      <td>2.0</td>\n",
       "      <td>school_bus</td>\n",
       "      <td>&gt; 10</td>\n",
       "      <td>29</td>\n",
       "      <td>23</td>\n",
       "      <td>19</td>\n",
       "      <td>24.0</td>\n",
       "    </tr>\n",
       "    <tr>\n",
       "      <th>596</th>\n",
       "      <td>male</td>\n",
       "      <td>group B</td>\n",
       "      <td>high school</td>\n",
       "      <td>free/reduced</td>\n",
       "      <td>none</td>\n",
       "      <td>married</td>\n",
       "      <td>regularly</td>\n",
       "      <td>no</td>\n",
       "      <td>2.0</td>\n",
       "      <td>school_bus</td>\n",
       "      <td>5 - 10</td>\n",
       "      <td>30</td>\n",
       "      <td>24</td>\n",
       "      <td>15</td>\n",
       "      <td>23.0</td>\n",
       "    </tr>\n",
       "    <tr>\n",
       "      <th>...</th>\n",
       "      <td>...</td>\n",
       "      <td>...</td>\n",
       "      <td>...</td>\n",
       "      <td>...</td>\n",
       "      <td>...</td>\n",
       "      <td>...</td>\n",
       "      <td>...</td>\n",
       "      <td>...</td>\n",
       "      <td>...</td>\n",
       "      <td>...</td>\n",
       "      <td>...</td>\n",
       "      <td>...</td>\n",
       "      <td>...</td>\n",
       "      <td>...</td>\n",
       "      <td>...</td>\n",
       "    </tr>\n",
       "    <tr>\n",
       "      <th>609</th>\n",
       "      <td>male</td>\n",
       "      <td>group C</td>\n",
       "      <td>associate's degree</td>\n",
       "      <td>free/reduced</td>\n",
       "      <td>completed</td>\n",
       "      <td>single</td>\n",
       "      <td>never</td>\n",
       "      <td>yes</td>\n",
       "      <td>1.0</td>\n",
       "      <td>school_bus</td>\n",
       "      <td>&lt; 5</td>\n",
       "      <td>26</td>\n",
       "      <td>25</td>\n",
       "      <td>27</td>\n",
       "      <td>26.0</td>\n",
       "    </tr>\n",
       "    <tr>\n",
       "      <th>620</th>\n",
       "      <td>male</td>\n",
       "      <td>group C</td>\n",
       "      <td>associate's degree</td>\n",
       "      <td>free/reduced</td>\n",
       "      <td>none</td>\n",
       "      <td>married</td>\n",
       "      <td>sometimes</td>\n",
       "      <td>no</td>\n",
       "      <td>1.0</td>\n",
       "      <td>school_bus</td>\n",
       "      <td>5 - 10</td>\n",
       "      <td>27</td>\n",
       "      <td>26</td>\n",
       "      <td>23</td>\n",
       "      <td>25.0</td>\n",
       "    </tr>\n",
       "    <tr>\n",
       "      <th>947</th>\n",
       "      <td>male</td>\n",
       "      <td>group A</td>\n",
       "      <td>some college</td>\n",
       "      <td>free/reduced</td>\n",
       "      <td>none</td>\n",
       "      <td>married</td>\n",
       "      <td>sometimes</td>\n",
       "      <td>no</td>\n",
       "      <td>1.0</td>\n",
       "      <td>school_bus</td>\n",
       "      <td>&lt; 5</td>\n",
       "      <td>21</td>\n",
       "      <td>18</td>\n",
       "      <td>21</td>\n",
       "      <td>20.0</td>\n",
       "    </tr>\n",
       "    <tr>\n",
       "      <th>834</th>\n",
       "      <td>male</td>\n",
       "      <td>group B</td>\n",
       "      <td>associate's degree</td>\n",
       "      <td>free/reduced</td>\n",
       "      <td>none</td>\n",
       "      <td>divorced</td>\n",
       "      <td>never</td>\n",
       "      <td>no</td>\n",
       "      <td>1.0</td>\n",
       "      <td>school_bus</td>\n",
       "      <td>5 - 10</td>\n",
       "      <td>24</td>\n",
       "      <td>14</td>\n",
       "      <td>4</td>\n",
       "      <td>14.0</td>\n",
       "    </tr>\n",
       "    <tr>\n",
       "      <th>671</th>\n",
       "      <td>male</td>\n",
       "      <td>group D</td>\n",
       "      <td>associate's degree</td>\n",
       "      <td>standard</td>\n",
       "      <td>none</td>\n",
       "      <td>married</td>\n",
       "      <td>sometimes</td>\n",
       "      <td>no</td>\n",
       "      <td>1.0</td>\n",
       "      <td>school_bus</td>\n",
       "      <td>&lt; 5</td>\n",
       "      <td>32</td>\n",
       "      <td>19</td>\n",
       "      <td>20</td>\n",
       "      <td>24.0</td>\n",
       "    </tr>\n",
       "  </tbody>\n",
       "</table>\n",
       "<p>89 rows × 15 columns</p>\n",
       "</div>"
      ],
      "text/plain": [
       "     Gender EthnicGroup          ParentEduc     LunchType   TestPrep  \\\n",
       "17   female     group B    some high school  free/reduced       none   \n",
       "59   female     group C    some high school  free/reduced       none   \n",
       "76     male     group E    some high school      standard       none   \n",
       "327    male     group A        some college  free/reduced       none   \n",
       "596    male     group B         high school  free/reduced       none   \n",
       "..      ...         ...                 ...           ...        ...   \n",
       "609    male     group C  associate's degree  free/reduced  completed   \n",
       "620    male     group C  associate's degree  free/reduced       none   \n",
       "947    male     group A        some college  free/reduced       none   \n",
       "834    male     group B  associate's degree  free/reduced       none   \n",
       "671    male     group D  associate's degree      standard       none   \n",
       "\n",
       "    ParentMaritalStatus PracticeSport IsFirstChild  NrSiblings TransportMeans  \\\n",
       "17             divorced     sometimes          yes         1.0     school_bus   \n",
       "59               single     regularly          yes         3.0     school_bus   \n",
       "76              married     sometimes           no         5.0     school_bus   \n",
       "327             married     regularly          yes         2.0     school_bus   \n",
       "596             married     regularly           no         2.0     school_bus   \n",
       "..                  ...           ...          ...         ...            ...   \n",
       "609              single         never          yes         1.0     school_bus   \n",
       "620             married     sometimes           no         1.0     school_bus   \n",
       "947             married     sometimes           no         1.0     school_bus   \n",
       "834            divorced         never           no         1.0     school_bus   \n",
       "671             married     sometimes           no         1.0     school_bus   \n",
       "\n",
       "    WklyStudyHours  MathScore  ReadingScore  WritingScore  Score  \n",
       "17          5 - 10         18            32            28   26.0  \n",
       "59            > 10          0            17            10    9.0  \n",
       "76          5 - 10         28            25            21   25.0  \n",
       "327           > 10         29            23            19   24.0  \n",
       "596         5 - 10         30            24            15   23.0  \n",
       "..             ...        ...           ...           ...    ...  \n",
       "609            < 5         26            25            27   26.0  \n",
       "620         5 - 10         27            26            23   25.0  \n",
       "947            < 5         21            18            21   20.0  \n",
       "834         5 - 10         24            14             4   14.0  \n",
       "671            < 5         32            19            20   24.0  \n",
       "\n",
       "[89 rows x 15 columns]"
      ]
     },
     "execution_count": 24,
     "metadata": {},
     "output_type": "execute_result"
    }
   ],
   "source": [
    "valores_atipicos=(df['Score']< (Q1 - 1.5 * IQR)) | (df['Score'] > (Q3 + 1.5 * IQR))\n",
    "df[valores_atipicos]"
   ]
  },
  {
   "cell_type": "markdown",
   "metadata": {},
   "source": [
    "Son 85 filas sobre los 30010 filas del dataset sin los nulos de la columna practica de deportes, puede proceder a eliminarlos del dataset, pero por ahora prefiero dejarlos, ya que no son tantos y no afectan tanto al dataset, en caso que el modelo no funcione bien, se puede volver a este punto y eliminarlos"
   ]
  },
  {
   "cell_type": "markdown",
   "metadata": {},
   "source": [
    "**EN LAS PRUEBAS POSTERIORES DEL MODELO , VOY A PROBAR SOLO USAR LA VARIABLE SCORE  Y NO LOS 3 SCORES DE LOS EXAMENES. YA QUE LOS 3 SCORE TIENEN ALTA CORRELACION ENTRE ELLOS.**"
   ]
  }
 ],
 "metadata": {
  "kernelspec": {
   "display_name": "Python 3",
   "language": "python",
   "name": "python3"
  },
  "language_info": {
   "codemirror_mode": {
    "name": "ipython",
    "version": 3
   },
   "file_extension": ".py",
   "mimetype": "text/x-python",
   "name": "python",
   "nbconvert_exporter": "python",
   "pygments_lexer": "ipython3",
   "version": "3.11.0"
  },
  "orig_nbformat": 4
 },
 "nbformat": 4,
 "nbformat_minor": 2
}
